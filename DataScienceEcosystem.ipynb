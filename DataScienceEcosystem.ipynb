{
 "cells": [
  {
   "cell_type": "markdown",
   "id": "accc22fb-3e20-4c09-a026-2ca21c247b65",
   "metadata": {},
   "source": [
    "# Data Science Tools and Ecosystem"
   ]
  },
  {
   "cell_type": "markdown",
   "id": "bd819dd6-b297-42c3-b21f-8bc48e857a23",
   "metadata": {},
   "source": [
    "In this notebook, Data Science Tools and Ecosystem are summarized."
   ]
  },
  {
   "cell_type": "markdown",
   "id": "4936377a-0052-43f9-b6c7-c5de82173d19",
   "metadata": {},
   "source": [
    "<b>Objectives:</b>\n",
    "<ul>List popular languages for Data Science</ul>\n",
    "<ul>List commonly used libraries used by Data Scientists</ul>\n",
    "<ul>List Data Science Tools</ul>\n",
    "<ul>Examples of evaluating arithmetic expressions in Python</ul>"
   ]
  },
  {
   "cell_type": "markdown",
   "id": "c3d0d473-0c17-47e4-a8f6-93952ae41b36",
   "metadata": {},
   "source": [
    "Some of the popular languages that Data Scientists use are:\n",
    "<ol>Python</ol>\n",
    "<ol>R</ol>\n",
    "<ol>SQL</ol>"
   ]
  },
  {
   "cell_type": "markdown",
   "id": "1c33facf-e50f-4a54-a1f6-40d891993d5e",
   "metadata": {},
   "source": [
    "Some of the commonly used libraries used by Data Scientists include:\n",
    "<ol>\n",
    "    Pandas\n",
    "</ol>\n",
    "<ol>\n",
    "    Matplotlib\n",
    "</ol>\n",
    "<ol>NumPy</ol>"
   ]
  },
  {
   "cell_type": "markdown",
   "id": "b3d92c02-9ac7-4008-994e-7c9087fddf07",
   "metadata": {},
   "source": [
    "Data Science Tools\n",
    "|Data Science Tools|\n",
    "|------------------|\n",
    "|Visual Studio Code|\n",
    "|TensorFlow|\n",
    "|Jupyter Notebook|"
   ]
  },
  {
   "cell_type": "markdown",
   "id": "2eb3cb6c-9c5d-457d-b871-e3ef5f3f5df2",
   "metadata": {},
   "source": [
    "### Below are a few examples of evaluating arithmetic expressions in Python"
   ]
  },
  {
   "cell_type": "code",
   "execution_count": 11,
   "id": "b3d60ed5-2841-4e79-9e41-e5bc8e98f7f9",
   "metadata": {},
   "outputs": [
    {
     "data": {
      "text/plain": [
       "17"
      ]
     },
     "execution_count": 11,
     "metadata": {},
     "output_type": "execute_result"
    }
   ],
   "source": [
    "#This a simple arithmetic expression to mutiply then add integers\n",
    "(3*4)+5"
   ]
  },
  {
   "cell_type": "code",
   "execution_count": 12,
   "id": "0a556a6b-5a74-471f-9ba9-b02e723208c9",
   "metadata": {},
   "outputs": [
    {
     "name": "stdout",
     "output_type": "stream",
     "text": [
      "3.3333333333333335\n"
     ]
    }
   ],
   "source": [
    "#This will convert 200 minutes to hours by diving by 60\n",
    "hours = 200/60\n",
    "print(hours)\n"
   ]
  },
  {
   "cell_type": "markdown",
   "id": "a060e3b3-f6f3-4099-9cba-f90943b7b9d1",
   "metadata": {},
   "source": [
    "## Author\n",
    "Ana-Maria Delescu"
   ]
  }
 ],
 "metadata": {
  "kernelspec": {
   "display_name": "Python 3 (ipykernel)",
   "language": "python",
   "name": "python3"
  },
  "language_info": {
   "codemirror_mode": {
    "name": "ipython",
    "version": 3
   },
   "file_extension": ".py",
   "mimetype": "text/x-python",
   "name": "python",
   "nbconvert_exporter": "python",
   "pygments_lexer": "ipython3",
   "version": "3.12.7"
  }
 },
 "nbformat": 4,
 "nbformat_minor": 5
}
